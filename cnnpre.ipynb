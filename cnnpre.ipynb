{
  "nbformat": 4,
  "nbformat_minor": 0,
  "metadata": {
    "colab": {
      "provenance": [],
      "toc_visible": true,
      "authorship_tag": "ABX9TyNg6+6fr6fHutubJQOYsRgU",
      "include_colab_link": true
    },
    "kernelspec": {
      "name": "python3",
      "display_name": "Python 3"
    },
    "language_info": {
      "name": "python"
    }
  },
  "cells": [
    {
      "cell_type": "markdown",
      "metadata": {
        "id": "view-in-github",
        "colab_type": "text"
      },
      "source": [
        "<a href=\"https://colab.research.google.com/github/JG91/CNNPRE/blob/main/cnnpre.ipynb\" target=\"_parent\"><img src=\"https://colab.research.google.com/assets/colab-badge.svg\" alt=\"Open In Colab\"/></a>"
      ]
    },
    {
      "cell_type": "code",
      "source": [
        "!pip install umap-learn\n",
        "!pip install hdbscan"
      ],
      "metadata": {
        "id": "oDsRRK_mjSGn"
      },
      "execution_count": null,
      "outputs": []
    },
    {
      "cell_type": "code",
      "source": [
        "# !apt-get update"
      ],
      "metadata": {
        "id": "l8kmMwdgVQyO"
      },
      "execution_count": null,
      "outputs": []
    },
    {
      "cell_type": "code",
      "source": [
        "!apt-get install texlive texlive-xetex texlive-latex-extra pandoc "
      ],
      "metadata": {
        "id": "GioS3IQgkZvn"
      },
      "execution_count": null,
      "outputs": []
    },
    {
      "cell_type": "code",
      "source": [
        "import sklearn\n",
        "from sklearn.cluster import KMeans\n",
        "import os\n",
        "import sys\n",
        "import matplotlib.pyplot as plt\n",
        "import cv2\n",
        "import numpy as np\n",
        "import pandas as pd\n",
        "import tensorflow as tf\n",
        "from PIL import Image as im\n",
        "from yellowbrick.cluster import KElbowVisualizer\n",
        "from sklearn.cluster import AgglomerativeClustering\n",
        "from sklearn.metrics import confusion_matrix, ConfusionMatrixDisplay\n",
        "from sklearn.metrics import adjusted_rand_score, adjusted_mutual_info_score\n",
        "from sklearn import metrics\n",
        "from sklearn.preprocessing import OneHotEncoder\n",
        "import umap.umap_ as umap\n",
        "import hdbscan\n",
        "from sklearn.cluster import AgglomerativeClustering"
      ],
      "metadata": {
        "id": "-PxeLgrviaIr"
      },
      "execution_count": null,
      "outputs": []
    },
    {
      "cell_type": "code",
      "source": [
        "def print_metrics(predicts):\n",
        "  print(\"Rand Score: \",adjusted_rand_score(packet['type'], predicts))\n",
        "  print(\"Mutial Info Score: \",adjusted_mutual_info_score(packet['type'], predicts))\n",
        "  print(\"Homogeneity: \",metrics.homogeneity_score(packet['type'], predicts))\n",
        "  print(\"Completenetss: \",metrics.completeness_score(packet['type'], predicts))\n",
        "  print(\"V_Measure(beta=0.1): \",metrics.v_measure_score(packet['type'], predicts,beta=0.1))\n",
        "  print(\"V_Measure(beta=0.2): \",metrics.v_measure_score(packet['type'], predicts,beta=0.2))\n",
        "  print(\"V_Measure(beta=0.5): \",metrics.v_measure_score(packet['type'], predicts,beta=0.4))\n",
        "  print(\"V_Measure: \",metrics.v_measure_score(packet['type'], predicts))\n",
        "  print(\"\\n\")"
      ],
      "metadata": {
        "id": "QBD9caKChzFR"
      },
      "execution_count": null,
      "outputs": []
    },
    {
      "cell_type": "code",
      "source": [
        "def draw_newconfmatrix(predicts):\n",
        "  df_confusion = pd.crosstab(packet['type'], predicts, rownames=['Actual'], colnames=['Predicted'])\n",
        "  # df_confusion\n",
        "  plt.matshow(df_confusion, cmap='Blues') # imshow\n",
        "  plt.title(\"Test\")\n",
        "  plt.colorbar()\n",
        "  tick_marks = np.arange(len(df_confusion.columns))\n",
        "  ytick_marks = np.arange(len(df_confusion.index))\n",
        "  plt.xticks(tick_marks, df_confusion.columns)\n",
        "  plt.yticks(ytick_marks, df_confusion.index)\n",
        "  # plt.tight_layout()\n",
        "  plt.ylabel(df_confusion.index.name)\n",
        "  plt.xlabel(df_confusion.columns.name)"
      ],
      "metadata": {
        "id": "nt5Y4Vh0bXxT"
      },
      "execution_count": null,
      "outputs": []
    },
    {
      "cell_type": "code",
      "source": [
        "def draw_confmatrix(predicts):\n",
        "  \"\"\"Draw Confusion Matrix\"\"\"\n",
        "  cm = confusion_matrix(packet['type'], predicts.astype(str))\n",
        "  ConfusionMatrixDisplay(cm).plot()"
      ],
      "metadata": {
        "id": "cgJBxlrLbiGT"
      },
      "execution_count": null,
      "outputs": []
    },
    {
      "cell_type": "code",
      "source": [
        "# Finding best K for clustering with Elbow Method\n",
        "def bestkm(featuresvectore):\n",
        "  fig, ax = plt.subplots()\n",
        "\n",
        "  visualizer = KElbowVisualizer(KMeans(), k=(1,11),ax=ax)\n",
        "  visualizer.fit(featuresvectore)\n",
        "\n",
        "  ax.set_xticks(range(1,11))\n",
        "  visualizer.show()\n",
        "  plt.show()\n",
        "  print(f'Elbow Value is {visualizer.elbow_value_}')\n",
        "\n",
        "  # Clustering\n",
        "  kmeans = AgglomerativeClustering(n_clusters = visualizer.elbow_value_)\n",
        "  kmeans.fit(featuresvectore)\n",
        "  return kmeans.labels_"
      ],
      "metadata": {
        "id": "o7bYJ5FoPDCe"
      },
      "execution_count": null,
      "outputs": []
    },
    {
      "cell_type": "code",
      "source": [
        "n = 5000 # no. of packets"
      ],
      "metadata": {
        "id": "-7Eth9QVqUHr"
      },
      "execution_count": null,
      "outputs": []
    },
    {
      "cell_type": "code",
      "source": [
        "data = pd.read_csv('GSM5000-hex.csv', dtype=str) # \n",
        "\n",
        "mtypes = data['type'].values\n",
        "direction = data['direction'].values\n",
        "bin = data['Full'].values\n",
        "\n",
        "bin=bin[:n]\n",
        "direction=direction[:n]\n",
        "mtypes=mtypes[:n]"
      ],
      "metadata": {
        "id": "8I9KjKtkAMvq"
      },
      "execution_count": null,
      "outputs": []
    },
    {
      "cell_type": "code",
      "source": [
        "data['type'].value_counts()"
      ],
      "metadata": {
        "colab": {
          "base_uri": "https://localhost:8080/"
        },
        "id": "X9WN71IxdDUq",
        "outputId": "214f59ed-64b6-452b-ed4d-05059f2c6cdf"
      },
      "execution_count": null,
      "outputs": [
        {
          "output_type": "execute_result",
          "data": {
            "text/plain": [
              "05    7431\n",
              "01    5644\n",
              "0f    1839\n",
              "87    1352\n",
              "07     505\n",
              "02     503\n",
              "09     119\n",
              "Name: Channel_Type, dtype: int64"
            ]
          },
          "metadata": {},
          "execution_count": 19
        }
      ]
    },
    {
      "cell_type": "code",
      "source": [
        "packet = {\n",
        "    'bin' : [],\n",
        "    'extractedfeature' : [],\n",
        "    'length' : np.zeros(n),\n",
        "    'lengroup' : [],\n",
        "    'direction' : [],\n",
        "    'type' : [],\n",
        "    }"
      ],
      "metadata": {
        "id": "6imToZjyKAQE"
      },
      "execution_count": null,
      "outputs": []
    },
    {
      "cell_type": "code",
      "source": [
        "for l in range(n):\n",
        "  # print(len(bin[l]))\n",
        "  packet['length'][l]=len(bin[l])\n",
        "  # print(packet['length'][l])\n",
        "\n",
        "# packet['length'] "
      ],
      "metadata": {
        "id": "W5MyPhW9065C"
      },
      "execution_count": null,
      "outputs": []
    },
    {
      "cell_type": "code",
      "source": [
        "packet[\"type\"]=mtypes"
      ],
      "metadata": {
        "id": "zouGKlaPum2T"
      },
      "execution_count": null,
      "outputs": []
    },
    {
      "cell_type": "code",
      "source": [
        "kmeans = KMeans(n_clusters=4, random_state=0).fit(packet['length'].reshape(-1,1))\n",
        "packet['lengroup'] = kmeans.labels_\n",
        "# you can see the labels with:\n",
        "# print(packet['length'])\n",
        "# print(packet['lengroup'])"
      ],
      "metadata": {
        "id": "FKxqCon61F6W"
      },
      "execution_count": null,
      "outputs": []
    },
    {
      "cell_type": "code",
      "source": [
        "ohe = OneHotEncoder()\n",
        "transformed = ohe.fit_transform(direction.reshape(-1, 1))\n",
        "packet['direction']=transformed.toarray()"
      ],
      "metadata": {
        "id": "zBfgELnP0ad9"
      },
      "execution_count": null,
      "outputs": []
    },
    {
      "cell_type": "code",
      "source": [
        "ohe = OneHotEncoder()\n",
        "transformed = ohe.fit_transform(packet['lengroup'].reshape(-1,1))\n",
        "packet['lengroup']=transformed.toarray()"
      ],
      "metadata": {
        "id": "_DveNW9Q2m3c"
      },
      "execution_count": null,
      "outputs": []
    },
    {
      "cell_type": "code",
      "source": [
        "listofbins=[]\n",
        "lens=[]\n",
        "for i in range(bin.shape[0]):\n",
        "  # print(i)\n",
        "  if (packet['length'][i]) < maxlen:\n",
        "    bin[i]=list(bin[i])\n",
        "    bin[i] = bin[i] + [0] * max(0, maxlen - len(bin[i]))\n",
        "  # print(len(bin[i]))\n",
        "  listofbins.append(list(bin[i]))\n",
        "  # lens.append(len(list(bin[i])))\n",
        "# print(lens)\n",
        "# print(max(lens))\n",
        "\n",
        "    # print(len(j))\n",
        "  # print(list(bin[i]))\n",
        "packet['bin'] = np.array(listofbins,dtype=np.int32)"
      ],
      "metadata": {
        "id": "D66JF9lc4diZ"
      },
      "execution_count": null,
      "outputs": []
    },
    {
      "cell_type": "code",
      "source": [
        "print(packet['direction'].shape)\n",
        "print(packet['type'].shape)\n",
        "print(packet['bin'].shape)\n",
        "print(packet['length'].shape)\n",
        "print(packet['lengroup'].shape)"
      ],
      "metadata": {
        "colab": {
          "base_uri": "https://localhost:8080/"
        },
        "id": "c449NjPlKqCg",
        "outputId": "b45982a9-ef30-42a6-a066-4b225cfa0386"
      },
      "execution_count": null,
      "outputs": [
        {
          "output_type": "stream",
          "name": "stdout",
          "text": [
            "(5000, 2)\n",
            "(5000,)\n",
            "(5000, 184)\n",
            "(5000,)\n",
            "(5000, 1)\n"
          ]
        }
      ]
    },
    {
      "cell_type": "code",
      "source": [
        "# apply transfer learning by using Resnet50 as pretrained model\n",
        "MyModel = tf.keras.models.Sequential()\n",
        "MyModel.add(tf.keras.applications.ResNet50(\n",
        "    include_top = False, weights='imagenet', pooling='avg',\n",
        "))"
      ],
      "metadata": {
        "id": "L12idy38iOnM",
        "colab": {
          "base_uri": "https://localhost:8080/"
        },
        "outputId": "7d23ab92-804c-49f0-93a4-7b0690fefbea"
      },
      "execution_count": null,
      "outputs": [
        {
          "output_type": "stream",
          "name": "stdout",
          "text": [
            "Downloading data from https://storage.googleapis.com/tensorflow/keras-applications/resnet/resnet50_weights_tf_dim_ordering_tf_kernels_notop.h5\n",
            "94765736/94765736 [==============================] - 4s 0us/step\n"
          ]
        }
      ]
    },
    {
      "cell_type": "code",
      "source": [
        "# freezing weights for 1st layer\n",
        "MyModel.layers[0].trainable = False"
      ],
      "metadata": {
        "id": "7LqX0jhaiR7J"
      },
      "execution_count": null,
      "outputs": []
    },
    {
      "cell_type": "code",
      "source": [
        "img = [] # list of images!\n",
        "for g in range(len(packet['bin'])):\n",
        "  img.append(cv2.resize(packet['bin'][g].astype('uint8'), (224, 224)))"
      ],
      "metadata": {
        "id": "0Uyd67aKMUPX"
      },
      "execution_count": null,
      "outputs": []
    },
    {
      "cell_type": "code",
      "source": [
        "# img[1]"
      ],
      "metadata": {
        "id": "rc7-J-zoNRRQ"
      },
      "execution_count": null,
      "outputs": []
    },
    {
      "cell_type": "code",
      "source": [
        "print(len(img)) # (n)\n",
        "print(img[0].shape) # 224 ,224"
      ],
      "metadata": {
        "colab": {
          "base_uri": "https://localhost:8080/"
        },
        "id": "5pQ2T79QPcS5",
        "outputId": "13578601-255c-41b8-8b1f-87a369853630"
      },
      "execution_count": null,
      "outputs": [
        {
          "output_type": "stream",
          "name": "stdout",
          "text": [
            "5000\n",
            "(224, 224)\n"
          ]
        }
      ]
    },
    {
      "cell_type": "code",
      "source": [
        "for i in range(len(img)):\n",
        "  img[i] = img[i].reshape(224,224,1) \n",
        "\n",
        "# reshaped_img  = np.expand_dims(reshaped_img, -1)"
      ],
      "metadata": {
        "id": "DAAG5N-5EEBe"
      },
      "execution_count": null,
      "outputs": []
    },
    {
      "cell_type": "code",
      "source": [
        "print(img[0].shape) # (224, 224, 1)\n",
        "print(len(img)) # n "
      ],
      "metadata": {
        "colab": {
          "base_uri": "https://localhost:8080/"
        },
        "id": "7IvxfR-WJIzt",
        "outputId": "a4d63ad1-4156-4e54-8c0f-24d11a22198f"
      },
      "execution_count": null,
      "outputs": [
        {
          "output_type": "stream",
          "name": "stdout",
          "text": [
            "(224, 224, 1)\n",
            "5000\n"
          ]
        }
      ]
    },
    {
      "cell_type": "code",
      "source": [
        "color_img =[]\n",
        "for i in range(len(img)):\n",
        "  color_img.append(cv2.cvtColor(img[i],cv2.COLOR_GRAY2RGB))"
      ],
      "metadata": {
        "id": "PNk8no8MHz49"
      },
      "execution_count": null,
      "outputs": []
    },
    {
      "cell_type": "code",
      "source": [
        "len(color_img) # (n)"
      ],
      "metadata": {
        "colab": {
          "base_uri": "https://localhost:8080/"
        },
        "id": "DqOZ8y_nJPEG",
        "outputId": "b422cf6b-2496-4af8-8bd8-65d6ca1d91a0"
      },
      "execution_count": null,
      "outputs": [
        {
          "output_type": "execute_result",
          "data": {
            "text/plain": [
              "5000"
            ]
          },
          "metadata": {},
          "execution_count": 40
        }
      ]
    },
    {
      "cell_type": "code",
      "source": [
        "for i in range(len(color_img)):\n",
        "  color_img[i] = tf.keras.applications.resnet50.preprocess_input(color_img[i])"
      ],
      "metadata": {
        "id": "rOZbhn3aEzVv"
      },
      "execution_count": null,
      "outputs": []
    },
    {
      "cell_type": "code",
      "source": [
        "color_img_expanded = []\n",
        "for i in range(len(color_img)):\n",
        "  color_img_expanded.append(np.expand_dims(color_img[i], 0))"
      ],
      "metadata": {
        "id": "M734_llLJddW"
      },
      "execution_count": null,
      "outputs": []
    },
    {
      "cell_type": "code",
      "source": [
        "print(len(color_img_expanded)) # n 1275\n",
        "print(color_img_expanded[0].shape) # (1, 224, 224, 3)"
      ],
      "metadata": {
        "colab": {
          "base_uri": "https://localhost:8080/"
        },
        "id": "BGnGh95gSHLb",
        "outputId": "6bbef8a6-4494-41fc-d83c-ae88c0fd00b2"
      },
      "execution_count": null,
      "outputs": [
        {
          "output_type": "stream",
          "name": "stdout",
          "text": [
            "5000\n",
            "(1, 224, 224, 3)\n"
          ]
        }
      ]
    },
    {
      "cell_type": "code",
      "source": [
        "for i in range(len(color_img_expanded)):\n",
        "  # print(f'{i+1}/{n}')\n",
        "  extractedFeatures = MyModel.predict(color_img_expanded[i])\n",
        "  extractedFeatures = np.array(extractedFeatures)\n",
        "  packet[\"extractedfeature\"].append(extractedFeatures.flatten())\n",
        "packet['extractedfeature'] = np.array(packet['extractedfeature'], dtype = 'float64')"
      ],
      "metadata": {
        "id": "GXTX_jBbv3hK"
      },
      "execution_count": null,
      "outputs": []
    },
    {
      "cell_type": "code",
      "source": [
        "print(packet['extractedfeature'].shape)"
      ],
      "metadata": {
        "id": "7YFN3HFAO-gV",
        "colab": {
          "base_uri": "https://localhost:8080/"
        },
        "outputId": "de980fe8-039c-43f5-c44e-21cd342dd1b0"
      },
      "execution_count": null,
      "outputs": [
        {
          "output_type": "stream",
          "name": "stdout",
          "text": [
            "(5000, 2048)\n"
          ]
        }
      ]
    },
    {
      "cell_type": "code",
      "source": [
        "bin_umap = umap.UMAP(\n",
        "    n_neighbors=20,\n",
        "    min_dist=0.0,\n",
        "    n_components=10,\n",
        "    random_state=42\n",
        ").fit_transform(packet['bin'])"
      ],
      "metadata": {
        "id": "jQ3NRG2vRcDj"
      },
      "execution_count": null,
      "outputs": []
    },
    {
      "cell_type": "code",
      "source": [
        "bin_umap_hamming = umap.UMAP(\n",
        "    n_neighbors=20,\n",
        "    min_dist=0.0,\n",
        "    n_components=10,\n",
        "    random_state=42,\n",
        "    metric=\"hamming\"\n",
        ").fit_transform(packet['bin'])"
      ],
      "metadata": {
        "id": "YpzEJ-dVRgLn",
        "colab": {
          "base_uri": "https://localhost:8080/"
        },
        "outputId": "ef45f43b-b429-4158-a67e-b2b88a0786bc"
      },
      "execution_count": null,
      "outputs": [
        {
          "output_type": "stream",
          "name": "stderr",
          "text": [
            "/usr/local/lib/python3.10/dist-packages/umap/umap_.py:1802: UserWarning: gradient function is not yet implemented for hamming distance metric; inverse_transform will be unavailable\n",
            "  warn(\n"
          ]
        }
      ]
    },
    {
      "cell_type": "code",
      "source": [
        "cnn_umap = umap.UMAP(\n",
        "    n_neighbors=20,\n",
        "    min_dist=0.0,\n",
        "    n_components=10,\n",
        "    random_state=42,\n",
        ").fit_transform(packet['extractedfeature'])"
      ],
      "metadata": {
        "id": "dEaAaqaTZB1G"
      },
      "execution_count": null,
      "outputs": []
    },
    {
      "cell_type": "code",
      "source": [
        "cnn_d = np.append(packet['extractedfeature'],packet['direction'],axis=1)\n",
        "cnn_dl = np.append(cnn_d,packet['lengroup'],axis=1)\n",
        "cnn_umap_d = np.append(cnn_umap,packet['direction'],axis=1)\n",
        "cnn_umap_dl = np.append(cnn_umap_d,packet['lengroup'],axis=1)\n",
        "\n",
        "print(packet['extractedfeature'].shape)\n",
        "print(cnn_d.shape)\n",
        "print(cnn_dl.shape)\n",
        "print(cnn_umap.shape)\n",
        "print(cnn_umap_d.shape)\n",
        "print(cnn_umap_dl.shape)"
      ],
      "metadata": {
        "id": "9kj1N5aiG_U8",
        "colab": {
          "base_uri": "https://localhost:8080/"
        },
        "outputId": "c7e9288d-cae3-46df-d150-c17d70896435"
      },
      "execution_count": null,
      "outputs": [
        {
          "output_type": "stream",
          "name": "stdout",
          "text": [
            "(5000, 2048)\n",
            "(5000, 2050)\n",
            "(5000, 2051)\n",
            "(5000, 10)\n",
            "(5000, 12)\n",
            "(5000, 13)\n"
          ]
        }
      ]
    },
    {
      "cell_type": "code",
      "source": [
        "km_bin = bestkm(packet['bin'])"
      ],
      "metadata": {
        "id": "QyBY1TRdJFJh"
      },
      "execution_count": null,
      "outputs": []
    },
    {
      "cell_type": "code",
      "source": [
        "km_cnn = bestkm(packet['extractedfeature'])"
      ],
      "metadata": {
        "id": "Udf7MYpXJGBd"
      },
      "execution_count": null,
      "outputs": []
    },
    {
      "cell_type": "code",
      "source": [
        "km_bin_umap = bestkm(bin_umap_hamming)"
      ],
      "metadata": {
        "id": "_F8WA_4aJH-M"
      },
      "execution_count": null,
      "outputs": []
    },
    {
      "cell_type": "code",
      "source": [
        "km_cnn_umap = bestkm(cnn_umap)"
      ],
      "metadata": {
        "id": "LQtvdegBJIwD"
      },
      "execution_count": null,
      "outputs": []
    },
    {
      "cell_type": "code",
      "source": [
        "km_cnn_umap_d = bestkm(cnn_umap_d)"
      ],
      "metadata": {
        "id": "0m4dbBFRJK8o"
      },
      "execution_count": null,
      "outputs": []
    },
    {
      "cell_type": "code",
      "source": [
        "km_cnn_umap_dl = bestkm(cnn_umap_dl)"
      ],
      "metadata": {
        "id": "Mq0MhzDKI9nC"
      },
      "execution_count": null,
      "outputs": []
    },
    {
      "cell_type": "code",
      "source": [
        "print(\"K-Means Binary, with K=\"+str(len(set(km_bin)))+\":\")\n",
        "print_metrics(km_bin)\n",
        "\n",
        "print(\"K-Means CNN, with K=\"+str(len(set(km_cnn)))+\":\")\n",
        "print_metrics(km_cnn)\n",
        "\n",
        "# print(\"K-Means Binary-UMAP, with K=\"+str(len(set(km_bin_umap)))+\":\")\n",
        "# print_metrics(km_bin_umap)\n",
        "\n",
        "print(\"K-Means CNN-UMAP, with K=\"+str(len(set(km_cnn_umap)))+\":\")\n",
        "print_metrics(km_cnn_umap)\n",
        "\n",
        "print(\"K-Means CNN-UMAP-Direction, with K=\"+str(len(set(km_cnn_umap_d)))+\":\")\n",
        "print_metrics(km_cnn_umap_d)\n",
        "\n",
        "print(\"K-Means CNN-UMAP-Direction-Length, with K=\"+str(len(set(km_cnn_umap_dl)))+\":\")\n",
        "print_metrics(km_cnn_umap_dl)"
      ],
      "metadata": {
        "id": "FCI8A9LwRw9V",
        "colab": {
          "base_uri": "https://localhost:8080/"
        },
        "outputId": "d0738c10-5d8c-447f-b26b-b8caabc62c84"
      },
      "execution_count": null,
      "outputs": [
        {
          "output_type": "stream",
          "name": "stdout",
          "text": [
            "K-Means Binary, with K=4:\n",
            "Rand Score:  0.6213859517535346\n",
            "Mutial Info Score:  0.6219416125733216\n",
            "Homogeneity:  0.6428092345149717\n",
            "Completenetss:  0.603281753132149\n",
            "V_Measure(beta=0.1):  0.6390030555685949\n",
            "V_Measure(beta=0.2):  0.635865502261584\n",
            "V_Measure(beta=0.5):  0.629070181543265\n",
            "V_Measure:  0.6224185645704168\n",
            "\n",
            "\n",
            "K-Means CNN, with K=3:\n",
            "Rand Score:  0.5126861409887395\n",
            "Mutial Info Score:  0.5066724317523531\n",
            "Homogeneity:  0.46809263297686377\n",
            "Completenetss:  0.553284646037887\n",
            "V_Measure(beta=0.1):  0.47473788517522164\n",
            "V_Measure(beta=0.2):  0.4804214498351917\n",
            "V_Measure(beta=0.5):  0.49341727763098575\n",
            "V_Measure:  0.5071357510505309\n",
            "\n",
            "\n",
            "K-Means CNN-UMAP, with K=3:\n",
            "Rand Score:  0.6672251553276155\n",
            "Mutial Info Score:  0.6805920813242634\n",
            "Homogeneity:  0.6204408536997248\n",
            "Completenetss:  0.7544055939583055\n",
            "V_Measure(beta=0.1):  0.6306211746571755\n",
            "V_Measure(beta=0.2):  0.6393635145430252\n",
            "V_Measure(beta=0.5):  0.6594767199039909\n",
            "V_Measure:  0.6808964761827162\n",
            "\n",
            "\n",
            "K-Means CNN-UMAP-Direction, with K=3:\n",
            "Rand Score:  0.6672251553276155\n",
            "Mutial Info Score:  0.6805920813242634\n",
            "Homogeneity:  0.6204408536997248\n",
            "Completenetss:  0.7544055939583055\n",
            "V_Measure(beta=0.1):  0.6306211746571755\n",
            "V_Measure(beta=0.2):  0.6393635145430252\n",
            "V_Measure(beta=0.5):  0.6594767199039909\n",
            "V_Measure:  0.6808964761827162\n",
            "\n",
            "\n",
            "K-Means CNN-UMAP-Direction-Length, with K=3:\n",
            "Rand Score:  0.6672251553276155\n",
            "Mutial Info Score:  0.6805920813242634\n",
            "Homogeneity:  0.6204408536997248\n",
            "Completenetss:  0.7544055939583055\n",
            "V_Measure(beta=0.1):  0.6306211746571755\n",
            "V_Measure(beta=0.2):  0.6393635145430252\n",
            "V_Measure(beta=0.5):  0.6594767199039909\n",
            "V_Measure:  0.6808964761827162\n",
            "\n",
            "\n"
          ]
        }
      ]
    },
    {
      "cell_type": "code",
      "source": [
        "min_cluster_size = int(n/100)\n",
        "print(min_cluster_size)\n",
        "min_samples = 10\n",
        "hd_bin = hdbscan.HDBSCAN(min_cluster_size,min_samples).fit_predict(packet['bin'])\n",
        "hd_cnn = hdbscan.HDBSCAN(min_cluster_size,min_samples).fit_predict(packet['extractedfeature'])\n",
        "hd_bin_umap = hdbscan.HDBSCAN(min_cluster_size,min_samples).fit_predict(bin_umap)\n",
        "hd_bin_umaph = hdbscan.HDBSCAN(min_cluster_size,min_samples).fit_predict(bin_umap_hamming)\n",
        "hd_cnn_umap = hdbscan.HDBSCAN(min_cluster_size,min_samples).fit_predict(cnn_umap)\n",
        "hd_cnn_umap_d = hdbscan.HDBSCAN(min_cluster_size,min_samples).fit_predict(cnn_umap_d)\n",
        "hd_cnn_umap_dl = hdbscan.HDBSCAN(min_cluster_size,min_samples).fit_predict(cnn_umap_dl)"
      ],
      "metadata": {
        "id": "fL4yBoThaySo",
        "colab": {
          "base_uri": "https://localhost:8080/"
        },
        "outputId": "bb3f77f7-1e79-4e2f-8e26-cf45674abdda"
      },
      "execution_count": null,
      "outputs": [
        {
          "output_type": "stream",
          "name": "stdout",
          "text": [
            "50\n"
          ]
        }
      ]
    },
    {
      "cell_type": "code",
      "source": [
        "print(\"HDBSCAN Binary\")\n",
        "print(str(len(set(hd_bin))))\n",
        "print_metrics(hd_bin)\n",
        "\n",
        "print(\"HDBSCAN CNN\")\n",
        "print(str(len(set(hd_cnn))))\n",
        "print_metrics(hd_cnn)\n",
        "\n",
        "print(\"HDBSCAN Binary-UMAP\")\n",
        "print(str(len(set(hd_bin_umap))))\n",
        "print_metrics(hd_bin_umap)\n",
        "\n",
        "print(\"HDBSCAN Binary-UMAP-Hamming\")\n",
        "print(str(len(set(hd_bin_umaph))))\n",
        "print_metrics(hd_bin_umaph)\n",
        "\n",
        "print(\"HDBSCAN CNN-UMAP\")\n",
        "print(str(len(set(hd_cnn_umap))))\n",
        "print_metrics(hd_cnn_umap)\n",
        "\n",
        "print(\"HDBSCAN CNN-UMAP-Direction\")\n",
        "print(str(len(set(hd_cnn_umap_d))))\n",
        "print_metrics(hd_cnn_umap_d)\n",
        "\n",
        "print(\"HDBSCAN CNN-UMAP-Direction-Length\")\n",
        "print(str(len(set(hd_cnn_umap_dl))))\n",
        "print_metrics(hd_cnn_umap_dl)"
      ],
      "metadata": {
        "id": "h78kF7OmK8ZX",
        "colab": {
          "base_uri": "https://localhost:8080/"
        },
        "outputId": "f930ad35-1e56-4c9b-e643-4485d1896c32"
      },
      "execution_count": null,
      "outputs": [
        {
          "output_type": "stream",
          "name": "stdout",
          "text": [
            "HDBSCAN Binary\n",
            "11\n",
            "Rand Score:  0.6865167715488121\n",
            "Mutial Info Score:  0.733094501108318\n",
            "Homogeneity:  0.95172485165638\n",
            "Completenetss:  0.5973695961367796\n",
            "V_Measure(beta=0.1):  0.9030276371335009\n",
            "V_Measure(beta=0.2):  0.8660977178317\n",
            "V_Measure(beta=0.5):  0.7946065882749049\n",
            "V_Measure:  0.7340178529168939\n",
            "\n",
            "\n",
            "HDBSCAN CNN\n",
            "12\n",
            "Rand Score:  0.6885520986540465\n",
            "Mutial Info Score:  0.7455207362747828\n",
            "Homogeneity:  0.9754092042757334\n",
            "Completenetss:  0.6045948735097237\n",
            "V_Measure(beta=0.1):  0.9238955634060284\n",
            "V_Measure(beta=0.2):  0.8849487207305091\n",
            "V_Measure(beta=0.5):  0.8098430205640395\n",
            "V_Measure:  0.7464884588220464\n",
            "\n",
            "\n",
            "HDBSCAN Binary-UMAP\n",
            "12\n",
            "Rand Score:  0.6804836560155201\n",
            "Mutial Info Score:  0.7089501773366793\n",
            "Homogeneity:  0.9164728551940425\n",
            "Completenetss:  0.5795569252715115\n",
            "V_Measure(beta=0.1):  0.8704698207535086\n",
            "V_Measure(beta=0.2):  0.8355201912090061\n",
            "V_Measure(beta=0.5):  0.7677080247954933\n",
            "V_Measure:  0.7100770278593959\n",
            "\n",
            "\n",
            "HDBSCAN Binary-UMAP-Hamming\n",
            "11\n",
            "Rand Score:  0.6667689315860077\n",
            "Mutial Info Score:  0.6982085438220229\n",
            "Homogeneity:  0.8974033005443869\n",
            "Completenetss:  0.5727985409016987\n",
            "V_Measure(beta=0.1):  0.8534358602256964\n",
            "V_Measure(beta=0.2):  0.8199582821830005\n",
            "V_Measure(beta=0.5):  0.7548182157873264\n",
            "V_Measure:  0.6992663002606417\n",
            "\n",
            "\n",
            "HDBSCAN CNN-UMAP\n",
            "10\n",
            "Rand Score:  0.6825965234115058\n",
            "Mutial Info Score:  0.7039556851632787\n",
            "Homogeneity:  0.8984980193672286\n",
            "Completenetss:  0.5799278448440741\n",
            "V_Measure(beta=0.1):  0.8557622439626181\n",
            "V_Measure(beta=0.2):  0.8231361636781597\n",
            "V_Measure(beta=0.5):  0.759438017396097\n",
            "V_Measure:  0.7048902925494728\n",
            "\n",
            "\n",
            "HDBSCAN CNN-UMAP-Direction\n",
            "10\n",
            "Rand Score:  0.6825965234115058\n",
            "Mutial Info Score:  0.7039556851632787\n",
            "Homogeneity:  0.8984980193672286\n",
            "Completenetss:  0.5799278448440741\n",
            "V_Measure(beta=0.1):  0.8557622439626181\n",
            "V_Measure(beta=0.2):  0.8231361636781597\n",
            "V_Measure(beta=0.5):  0.759438017396097\n",
            "V_Measure:  0.7048902925494728\n",
            "\n",
            "\n",
            "HDBSCAN CNN-UMAP-Direction-Length\n",
            "10\n",
            "Rand Score:  0.6825965234115058\n",
            "Mutial Info Score:  0.7039556851632787\n",
            "Homogeneity:  0.8984980193672286\n",
            "Completenetss:  0.5799278448440741\n",
            "V_Measure(beta=0.1):  0.8557622439626181\n",
            "V_Measure(beta=0.2):  0.8231361636781597\n",
            "V_Measure(beta=0.5):  0.759438017396097\n",
            "V_Measure:  0.7048902925494728\n",
            "\n",
            "\n"
          ]
        }
      ]
    },
    {
      "cell_type": "code",
      "source": [
        "print(\"HDBSCAN Binary\")\n",
        "draw_newconfmatrix(hd_bin)\n",
        "print(\"HDBSCAN CNN\")\n",
        "draw_newconfmatrix(hd_cnn)\n",
        "print(\"HDBSCAN Binary-UMAP\")\n",
        "draw_newconfmatrix(hd_bin_umap)\n",
        "print(\"HDBSCAN Binary-UMAP-Hamming\")\n",
        "draw_newconfmatrix(hd_bin_umaph)\n",
        "print(\"HDBSCAN CNN-UMAP\")\n",
        "draw_newconfmatrix(hd_cnn_umap)\n",
        "print(\"HDBSCAN CNN-UMAP-Direction\")\n",
        "draw_newconfmatrix(hd_cnn_umap_d)\n",
        "print(\"HDBSCAN CNN-UMAP-Direction-Length\")\n",
        "draw_newconfmatrix(hd_cnn_umap_dl)"
      ],
      "metadata": {
        "id": "3YSZ_VMzI3yc",
        "colab": {
          "base_uri": "https://localhost:8080/",
          "height": 1000
        },
        "outputId": "361e49cb-c8c6-4c10-84ef-c52598dd96af"
      },
      "execution_count": null,
      "outputs": [
        {
          "output_type": "stream",
          "name": "stdout",
          "text": [
            "HDBSCAN Binary\n",
            "HDBSCAN CNN\n",
            "HDBSCAN Binary-UMAP\n",
            "HDBSCAN Binary-UMAP-Hamming\n",
            "HDBSCAN CNN-UMAP\n",
            "HDBSCAN CNN-UMAP-Direction\n",
            "HDBSCAN CNN-UMAP-Direction-Length\n"
          ]
        },
        {
          "output_type": "display_data",
          "data": {
            "text/plain": [
              "<Figure size 1008.33x550 with 2 Axes>"
            ],
            "image/png": "[encoded data removed]"
          },
          "metadata": {}
        },
        {
          "output_type": "display_data",
          "data": {
            "text/plain": [
              "<Figure size 1100x550 with 2 Axes>"
            ],
            "image/png": "[encoded data removed]"
          },
          "metadata": {}
        },
        {
          "output_type": "display_data",
          "data": {
            "text/plain": [
              "<Figure size 1100x550 with 2 Axes>"
            ],
            "image/png": "[encoded data removed]"
          },
          "metadata": {}
        },
        {
          "output_type": "display_data",
          "data": {
            "text/plain": [
              "<Figure size 1008.33x550 with 2 Axes>"
            ],
            "image/png": "[encoded data removed]"
          },
          "metadata": {}
        },
        {
          "output_type": "display_data",
          "data": {
            "text/plain": [
              "<Figure size 916.667x550 with 2 Axes>"
            ],
            "image/png": "[encoded data removed]"
          },
          "metadata": {}
        },
        {
          "output_type": "display_data",
          "data": {
            "text/plain": [
              "<Figure size 916.667x550 with 2 Axes>"
            ],
            "image/png": "[encoded data removed]"
          },
          "metadata": {}
        },
        {
          "output_type": "display_data",
          "data": {
            "text/plain": [
              "<Figure size 916.667x550 with 2 Axes>"
            ],
            "image/png": "[encoded data removed]"
          },
          "metadata": {}
        }
      ]
    },
    {
      "cell_type": "code",
      "source": [
        "upgmal = AgglomerativeClustering(linkage='single',n_clusters=len(set(km_cnn_umap_dl)))\n",
        "upgmal.fit(cnn_umap_dl)\n",
        "upl_cnn_umap_dl = upgmal.labels_\n",
        "# print('Cluster IDs:', cluster_ids)\n",
        "# print(len(np.unique(cluster_ids)))\n",
        "print(\"UPGMA Clustering Performance (with Elbow):\\n\")\n",
        "print_metrics(upl_cnn_umap_dl)"
      ],
      "metadata": {
        "colab": {
          "base_uri": "https://localhost:8080/"
        },
        "id": "MeHVr-oc-ysE",
        "outputId": "fd3e71a9-0873-45d2-b81f-431c03ecf14b"
      },
      "execution_count": null,
      "outputs": [
        {
          "output_type": "stream",
          "name": "stdout",
          "text": [
            "UPGMA Clustering Performance (with Elbow):\n",
            "\n",
            "Rand Score:  0.018162521601181713\n",
            "Mutial Info Score:  0.1010283286721755\n",
            "Homogeneity:  0.06235686883675875\n",
            "Completenetss:  0.28589067394759254\n",
            "V_Measure(beta=0.1):  0.06712838898516772\n",
            "V_Measure(beta=0.2):  0.07170046214738993\n",
            "V_Measure(beta=0.5):  0.08433767333346982\n",
            "V_Measure:  0.1023826161957555\n",
            "\n",
            "\n"
          ]
        }
      ]
    },
    {
      "cell_type": "code",
      "source": [
        "upgmah = AgglomerativeClustering(linkage='single',n_clusters=len(set(hd_cnn_umap_dl)))\n",
        "upgmah.fit(cnn_umap_dl)\n",
        "uph_cnn_umap_dl = upgmah.labels_\n",
        "# print('Cluster IDs:', cluster_ids)\n",
        "# print(len(np.unique(cluster_ids)))\n",
        "print(\"UPGMA Clustering Performance (n from hdbscan):\\n\")\n",
        "print_metrics(uph_cnn_umap_dl)"
      ],
      "metadata": {
        "colab": {
          "base_uri": "https://localhost:8080/"
        },
        "id": "ylYDbrxr-0dI",
        "outputId": "3a8b60a4-df03-4b1b-877b-19ffa00517a5"
      },
      "execution_count": null,
      "outputs": [
        {
          "output_type": "stream",
          "name": "stdout",
          "text": [
            "UPGMA Clustering Performance (n from hdbscan):\n",
            "\n",
            "Rand Score:  0.7229268213786022\n",
            "Mutial Info Score:  0.6932790226834541\n",
            "Homogeneity:  0.7277614391152519\n",
            "Completenetss:  0.664138098651494\n",
            "V_Measure(beta=0.1):  0.7214781280943954\n",
            "V_Measure(beta=0.2):  0.7163243232520319\n",
            "V_Measure(beta=0.5):  0.7052411247994661\n",
            "V_Measure:  0.6944956662912197\n",
            "\n",
            "\n"
          ]
        }
      ]
    },
    {
      "cell_type": "code",
      "source": [
        "upgmam = AgglomerativeClustering(linkage='single',n_clusters=int((len(set(km_cnn_umap_dl))+len(set(hd_cnn_umap_dl)))/2))\n",
        "upgmam.fit(cnn_umap_dl)\n",
        "upm_cnn_umap_dl = upgmam.labels_\n",
        "# print('Cluster IDs:', cluster_ids)\n",
        "# print(len(np.unique(cluster_ids)))\n",
        "print(\"UPGMA Clustering Performance (average n):\\n\")\n",
        "print_metrics(upm_cnn_umap_dl)"
      ],
      "metadata": {
        "colab": {
          "base_uri": "https://localhost:8080/"
        },
        "id": "_LoSDfKHB4ve",
        "outputId": "bcdcd9b5-0504-4911-d6fa-93c2dca0cc52"
      },
      "execution_count": null,
      "outputs": [
        {
          "output_type": "stream",
          "name": "stdout",
          "text": [
            "UPGMA Clustering Performance (average n):\n",
            "\n",
            "Rand Score:  0.06974625027629253\n",
            "Mutial Info Score:  0.21342029328335718\n",
            "Homogeneity:  0.15971944926613313\n",
            "Completenetss:  0.33293382908047336\n",
            "V_Measure(beta=0.1):  0.16764872628301603\n",
            "V_Measure(beta=0.2):  0.17488382018457127\n",
            "V_Measure(beta=0.5):  0.19322979008909083\n",
            "V_Measure:  0.21587599295497267\n",
            "\n",
            "\n"
          ]
        }
      ]
    },
    {
      "cell_type": "code",
      "source": [
        "from google.colab import drive\n",
        "drive.mount('/content/gdrive')\n",
        "\n",
        "# Go to the directory where your file is\n",
        "%cd gdrive/MyDrive/Colab\\ Notebooks\n",
        "# Verify that now you see your notebooks\n",
        "!ls\n"
      ],
      "metadata": {
        "id": "Rtlq46aYYmMq"
      },
      "execution_count": null,
      "outputs": []
    },
    {
      "cell_type": "code",
      "source": [
        "# Convert\n",
        "!jupyter nbconvert --to pdf cnnpre.ipynb"
      ],
      "metadata": {
        "id": "50ZtK2CIZBCD"
      },
      "execution_count": null,
      "outputs": []
    }
  ]
}